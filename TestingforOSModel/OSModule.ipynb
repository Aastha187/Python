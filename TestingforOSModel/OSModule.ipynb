{
 "cells": [
  {
   "cell_type": "code",
   "execution_count": 1,
   "id": "b9760092-e92d-4c18-add8-d64ca2395f3e",
   "metadata": {},
   "outputs": [
    {
     "name": "stdout",
     "output_type": "stream",
     "text": [
      "Tue Sep 24 09:54:54 2024\n",
      "\n",
      "\n",
      "Tue Sep 24 09:54:56 2024\n",
      "\n",
      "\n"
     ]
    }
   ],
   "source": [
    "\n",
    "\n",
    "import time\n",
    "def showTime():\n",
    "    print(time.ctime())\n",
    "    print(\"\\n\")\n",
    "    time.sleep(2)\n",
    "showTime()\n",
    "\n",
    "showTime()"
   ]
  },
  {
   "cell_type": "markdown",
   "id": "4ea630d7-8997-4b6f-8928-b144adbcad49",
   "metadata": {},
   "source": [
    "write a program that take directory address from user and writtens in lists of files and diroctries in that list using os module."
   ]
  },
  {
   "cell_type": "code",
   "execution_count": 2,
   "id": "1d46f5db-c16c-49c9-8344-e87b52d874f9",
   "metadata": {},
   "outputs": [
    {
     "name": "stdin",
     "output_type": "stream",
     "text": [
      "Enter the directory path:  ./\n"
     ]
    },
    {
     "name": "stdout",
     "output_type": "stream",
     "text": [
      "Files in the directory:\n",
      "allprogramms.ipynb\n",
      "OSModule.ipynb\n",
      "README.md\n",
      "scope.py\n"
     ]
    }
   ],
   "source": [
    "import os\n",
    "directory_path = input(\"Enter the directory path: \")\n",
    "if os.path.isdir(directory_path):\n",
    "    files = [f for f in os.listdir(directory_path) if os.path.isfile(os.path.join(directory_path, f))]\n",
    "    print(\"Files in the directory:\")\n",
    "    for file in files:\n",
    "        print(file)\n",
    "else:\n",
    "    print(\"The specified directory does not exist.\")"
   ]
  },
  {
   "cell_type": "markdown",
   "id": "1060b1b1-39c4-472c-9a5f-2ed6aa46bec9",
   "metadata": {},
   "source": [
    "write a program that takes directory address from user and organise files into coresponding folders using os module "
   ]
  },
  {
   "cell_type": "code",
   "execution_count": null,
   "id": "675573be-f509-4f7c-ade7-d514b4259549",
   "metadata": {},
   "outputs": [],
   "source": [
    "import os\n",
    "address = \"./\"\n",
    "list_of_files = os.listdir(address)\n",
    "list_of_files\n",
    "for i in list_of_files:\n",
    "    extension=i.split(\".\")\n",
    "    extension=extension[-1]\n",
    "    extension\n"
   ]
  },
  {
   "cell_type": "code",
   "execution_count": 5,
   "id": "96ef805c-b939-4623-bf23-e461f9a88efa",
   "metadata": {},
   "outputs": [
    {
     "data": {
      "text/plain": [
       "0"
      ]
     },
     "execution_count": 5,
     "metadata": {},
     "output_type": "execute_result"
    }
   ],
   "source": [
    "import os\n",
    "asa=\"mkdir aasthas\"\n",
    "os.system(asa)"
   ]
  },
  {
   "cell_type": "code",
   "execution_count": 4,
   "id": "5fa468f8-370f-46b9-959d-f233a9b48180",
   "metadata": {},
   "outputs": [
    {
     "name": "stdout",
     "output_type": "stream",
     "text": [
      "value of 5\n"
     ]
    }
   ],
   "source": [
    "a=5\n",
    "try:\n",
    "    print(f\"value of {a}\")\n",
    "except:\n",
    "    print(f\"value of a does not exist\")\n"
   ]
  },
  {
   "cell_type": "markdown",
   "id": "0056c09f-b8cd-4f23-9a0d-2caa17a681d3",
   "metadata": {},
   "source": [
    "wap to check the directory and creates folders in that directory"
   ]
  },
  {
   "cell_type": "code",
   "execution_count": 2,
   "id": "8173fb38-986f-47d1-8608-d8cc99be68f3",
   "metadata": {},
   "outputs": [],
   "source": [
    "# if current working directory is same as destination directory then it would pass and if not then it will redirect to that directory. \n",
    "\n",
    "import os\n",
    "\n",
    "def createfolder():\n",
    "    folders = \"Images,Videos,Documents,Misc,Music\".split(\",\")    \n",
    "    for f in folders:\n",
    "        #cmd = f\"mkdir {f}\"\n",
    "        cmd = f\"mkdir {f}\"\n",
    "        os.system(cmd)\n",
    "createfolder()"
   ]
  },
  {
   "cell_type": "code",
   "execution_count": null,
   "id": "42a02160-bf38-4415-af61-e47211ed21a7",
   "metadata": {},
   "outputs": [],
   "source": []
  }
 ],
 "metadata": {
  "kernelspec": {
   "display_name": "Python 3 (ipykernel)",
   "language": "python",
   "name": "python3"
  },
  "language_info": {
   "codemirror_mode": {
    "name": "ipython",
    "version": 3
   },
   "file_extension": ".py",
   "mimetype": "text/x-python",
   "name": "python",
   "nbconvert_exporter": "python",
   "pygments_lexer": "ipython3",
   "version": "3.12.4"
  }
 },
 "nbformat": 4,
 "nbformat_minor": 5
}

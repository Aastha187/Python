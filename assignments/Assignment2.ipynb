{
 "cells": [
  {
   "cell_type": "markdown",
   "id": "73e6ac09-64b2-46c4-baac-249692240500",
   "metadata": {},
   "source": [
    "# Python Assignment 2"
   ]
  },
  {
   "cell_type": "markdown",
   "id": "287b5244-6d0e-42a9-9fa0-f0af6d29efbd",
   "metadata": {},
   "source": [
    "### Write a function greet that takes two arguments: name (a string) and greeting (a string with a default value of \"Hello\"). The function should return a greeting message.\n"
   ]
  },
  {
   "cell_type": "code",
   "execution_count": 1,
   "id": "922d8ac9-197b-4551-9013-75abef1ec772",
   "metadata": {},
   "outputs": [
    {
     "name": "stdout",
     "output_type": "stream",
     "text": [
      "Hello, Aastha\n",
      "Good Morning, Aastha\n"
     ]
    }
   ],
   "source": [
    "def greet(name, greeting=\"Hello\"):\n",
    "    return f\"{greeting}, {name}\"\n",
    "\n",
    "print(greet(\"Aastha\"))         \n",
    "print(greet(\"Aastha\", \"Good Morning\")) "
   ]
  },
  {
   "cell_type": "markdown",
   "id": "992023d6-1d24-40bc-a557-630c10222c86",
   "metadata": {},
   "source": [
    "### Create a function create_profile that takes arguments for name, age, and city as named arguments. The function should return a string like \"Name: Alice, Age: 25, City: New York\". Ensure that the age argument has a default value of 18."
   ]
  },
  {
   "cell_type": "code",
   "execution_count": 2,
   "id": "f9f10999-c477-4104-b24d-f34117d255e3",
   "metadata": {},
   "outputs": [
    {
     "name": "stdout",
     "output_type": "stream",
     "text": [
      "Name:Aastha, Age:18, City:delhi\n",
      "Name:Aastha, Age:21, City:Los Angeles\n"
     ]
    }
   ],
   "source": [
    "def create_profile(name, city, age=18):\n",
    "    return f\"Name:{name}, Age:{age}, City:{city}\"\n",
    "\n",
    "print(create_profile(name=\"Aastha\", city=\"delhi\"))         \n",
    "print(create_profile(name=\"Aastha\", age=21, city=\"Los Angeles\")) "
   ]
  },
  {
   "cell_type": "markdown",
   "id": "3b1f9015-0def-46ca-a82e-f8d80d22b9eb",
   "metadata": {},
   "source": [
    "### Write a function sum_numbers that takes any number of positional arguments (args) and keyword arguments (*kwargs). It should:\n",
    "\n",
    "###     Return the sum of all *args if they are numbers.\n",
    "\n",
    "###     Return a dictionary of all keyword arguments."
   ]
  },
  {
   "cell_type": "code",
   "execution_count": 5,
   "id": "b3f8053e-c7af-4816-a17e-b7be87113f9e",
   "metadata": {},
   "outputs": [
    {
     "name": "stdout",
     "output_type": "stream",
     "text": [
      "Sum of numbers: 131\n",
      "Keyword arguments: {'x': 'Aastha', 'y': 22, 'z': 40}\n"
     ]
    }
   ],
   "source": [
    "def sum_numbers(*args,**kwargs):\n",
    "    sumNum=0\n",
    "    for num in args:\n",
    "        if (isinstance(num,(int,float))):\n",
    "            sumNum+=num\n",
    "    return sumNum,kwargs\n",
    "sumNum, kwargsDict = sum_numbers(\"V\",21,50,60,\"Hello\",x=\"Aastha\",y=22,z=40)\n",
    "print(\"Sum of numbers:\", sumNum)      \n",
    "print(\"Keyword arguments:\", kwargsDict) "
   ]
  },
  {
   "cell_type": "markdown",
   "id": "147560f9-8357-426a-b0a6-cf79be515862",
   "metadata": {},
   "source": [
    "### Write a function that uses map and a lambda to return a list where each element is squared.\n"
   ]
  },
  {
   "cell_type": "code",
   "execution_count": 6,
   "id": "7bae53d0-7b8c-4181-befa-8d34c615fea5",
   "metadata": {},
   "outputs": [
    {
     "name": "stdin",
     "output_type": "stream",
     "text": [
      "Enter size of list: 3\n",
      "Enter 1th element: 34\n",
      "Enter 2th element: 44\n",
      "Enter 3th element: 55\n"
     ]
    },
    {
     "name": "stdout",
     "output_type": "stream",
     "text": [
      "[1156, 1936, 3025]\n"
     ]
    }
   ],
   "source": [
    "list1=[]\n",
    "def squaredList(list1):\n",
    "    squared=map(lambda x:x *x,list1)\n",
    "    return squared\n",
    "ele=int(input(\"Enter size of list:\"))\n",
    "for i in range(ele):\n",
    "    num=int(input(f\"Enter {i+1}th element:\"))\n",
    "    list1.append(num)\n",
    "print(list(squaredList(list1)))"
   ]
  },
  {
   "cell_type": "markdown",
   "id": "e3d2dff4-56f3-4d44-9a91-0f2412f21755",
   "metadata": {},
   "source": [
    "### Write a function that filters out all odd numbers from a list using filter and a lambda function.\n"
   ]
  },
  {
   "cell_type": "code",
   "execution_count": 7,
   "id": "71782934-8e52-4903-8d90-19b29be9ad21",
   "metadata": {},
   "outputs": [
    {
     "name": "stdin",
     "output_type": "stream",
     "text": [
      "Enter size of list: 5\n",
      "Enter 1th element: 34\n",
      "Enter 2th element: 56\n",
      "Enter 3th element: 11\n",
      "Enter 4th element: 33\n",
      "Enter 5th element: 43\n"
     ]
    },
    {
     "name": "stdout",
     "output_type": "stream",
     "text": [
      "[11, 33, 43]\n"
     ]
    }
   ],
   "source": [
    "list1=[]\n",
    "def oddList(list1):\n",
    "    oddNum=filter(lambda x:x%2!=0,list1)\n",
    "    return oddNum\n",
    "ele=int(input(\"Enter size of list:\"))\n",
    "for i in range(ele):\n",
    "    num=int(input(f\"Enter {i+1}th element:\"))\n",
    "    list1.append(num)\n",
    "print(list(oddList(list1)))"
   ]
  },
  {
   "cell_type": "markdown",
   "id": "e7f8b9a8-fb3e-4f40-820d-82f2b137420f",
   "metadata": {},
   "source": [
    "### Create a list comprehension that takes a list of numbers and returns a list of their squares.\n"
   ]
  },
  {
   "cell_type": "code",
   "execution_count": 8,
   "id": "008c04e4-0fc4-4a9b-b977-933ed4c21e79",
   "metadata": {},
   "outputs": [
    {
     "name": "stdin",
     "output_type": "stream",
     "text": [
      "Enter size of list: 3\n",
      "Enter 1th element: 65\n",
      "Enter 2th element: 78\n",
      "Enter 3th element: 85\n"
     ]
    },
    {
     "name": "stdout",
     "output_type": "stream",
     "text": [
      "[4225, 6084, 7225]\n"
     ]
    }
   ],
   "source": [
    "list1=[]\n",
    "def squaredList(list1):\n",
    "    squared = [i ** 2 for i in list1]\n",
    "    return squared\n",
    "ele=int(input(\"Enter size of list:\"))\n",
    "for i in range(ele):\n",
    "    num=int(input(f\"Enter {i+1}th element:\"))\n",
    "    list1.append(num)\n",
    "print(list(squaredList(list1)))"
   ]
  },
  {
   "cell_type": "markdown",
   "id": "aaa6b848-976e-4d0e-8611-232ebf563894",
   "metadata": {},
   "source": [
    "### Use a list comprehension to create a list of even numbers from 1 to 20.\n"
   ]
  },
  {
   "cell_type": "code",
   "execution_count": 9,
   "id": "1a5d518c-0365-4c99-a187-0e6606f62157",
   "metadata": {},
   "outputs": [
    {
     "name": "stdout",
     "output_type": "stream",
     "text": [
      "[2, 4, 6, 8, 10, 12, 14, 16, 18, 20]\n"
     ]
    }
   ],
   "source": [
    "def evenList():\n",
    "    evenNum = [i for i in range(1,21) if i % 2 == 0]\n",
    "    return evenNum\n",
    "\n",
    "print(list(evenList()))"
   ]
  },
  {
   "cell_type": "markdown",
   "id": "cea0223e-f519-4500-9ff4-10e7bf7b9494",
   "metadata": {},
   "source": [
    "### Write a function file_operations that creates a directory named \"test_folder\" using os.makedirs(). Then, pause the execution for 3 seconds using time.sleep(), and finally, delete the directory using os.rmdir().\n"
   ]
  },
  {
   "cell_type": "code",
   "execution_count": 10,
   "id": "ff903aca-3b6d-4c66-adbc-b4ce057bc1fb",
   "metadata": {},
   "outputs": [
    {
     "name": "stdout",
     "output_type": "stream",
     "text": [
      "\n",
      " The time before sleep: 1728017439\n",
      "\n",
      " The time after sleep: 1728017442.\n",
      " Directory removed successfully!!\n",
      "\n",
      " The time taken to execute the function is 3 Seconds.\n"
     ]
    }
   ],
   "source": [
    "import os\n",
    "import time\n",
    "def file_operations():\n",
    "    os.makedirs(\"./test_folder\")\n",
    "    startTime=time.time()\n",
    "    startTime=int(startTime)\n",
    "    print(f\"\\n The time before sleep: {startTime}\")\n",
    "    time.sleep(3)\n",
    "    endTime=time.time()\n",
    "    endTime=int(endTime)\n",
    "    print(f\"\\n The time after sleep: {endTime}.\")\n",
    "    os.rmdir(\"./test_folder\")\n",
    "    print(\" Directory removed successfully!!\")\n",
    "    runTimeInSeconds = endTime - startTime\n",
    "    print(f\"\\n The time taken to execute the function is {runTimeInSeconds} Seconds.\")\n",
    "file_operations()"
   ]
  },
  {
   "cell_type": "markdown",
   "id": "27c740c4-fa08-4355-b7c9-003f209cab41",
   "metadata": {},
   "source": [
    "### Write a Python script that imports only sleep from the time module and renames it to pause. Use it to pause execution for 2 seconds and print \"Paused execution...\".\n"
   ]
  },
  {
   "cell_type": "code",
   "execution_count": 11,
   "id": "1020ae5d-ad4d-4da7-a478-16f93ecc08f6",
   "metadata": {},
   "outputs": [
    {
     "name": "stdout",
     "output_type": "stream",
     "text": [
      "Hello\n",
      "Paused execution for 2 seconds\n",
      "Resumed execution for 2 seconds\n"
     ]
    }
   ],
   "source": [
    "from time import sleep as pause\n",
    "print(\"Hello\")\n",
    "print(\"Paused execution for 2 seconds\")\n",
    "pause(3)\n",
    "print(\"Resumed execution for 2 seconds\")"
   ]
  },
  {
   "cell_type": "markdown",
   "id": "4ac81532-630a-4479-9820-32fd18ec0c73",
   "metadata": {},
   "source": [
    "### Write a recursive function flatten_list that can flatten a nested list of any depth using *args and **kwargs.\n"
   ]
  },
  {
   "cell_type": "code",
   "execution_count": 12,
   "id": "736a654f-eedd-4d7f-a006-8243ae8dc796",
   "metadata": {},
   "outputs": [
    {
     "name": "stdout",
     "output_type": "stream",
     "text": [
      "Flattened List: [1, 2, 3, 4, 5, 6]\n"
     ]
    }
   ],
   "source": [
    "def flatten_list(nested_list):\n",
    "    flatList = []\n",
    "    for i in nested_list:\n",
    "        if isinstance(i, list):\n",
    "            flatList.extend(flatten_list(i))\n",
    "        else:\n",
    "            flatList.append(i)\n",
    "    return flatList\n",
    "nested = [1, [2, 3], [[4, 5], 6]]\n",
    "flattenedList = flatten_list(nested)\n",
    "print(\"Flattened List:\", flattenedList)  "
   ]
  }
 ],
 "metadata": {
  "kernelspec": {
   "display_name": "Python 3 (ipykernel)",
   "language": "python",
   "name": "python3"
  },
  "language_info": {
   "codemirror_mode": {
    "name": "ipython",
    "version": 3
   },
   "file_extension": ".py",
   "mimetype": "text/x-python",
   "name": "python",
   "nbconvert_exporter": "python",
   "pygments_lexer": "ipython3",
   "version": "3.12.4"
  }
 },
 "nbformat": 4,
 "nbformat_minor": 5
}

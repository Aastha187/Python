{
 "cells": [
  {
   "cell_type": "markdown",
   "id": "fac25c43-18ac-45c7-94c6-689c60021e08",
   "metadata": {},
   "source": [
    " 1 write a function that takes a list as input and return its sum commulative sum min and max value using for loop define function documentation using docs stringamd show its user \n",
    "    "
   ]
  },
  {
   "cell_type": "code",
   "execution_count": 19,
   "id": "f11f938b-b6f1-425d-9719-f264be79e5bc",
   "metadata": {},
   "outputs": [
    {
     "name": "stdin",
     "output_type": "stream",
     "text": [
      "Enter elements: 6\n",
      "Enter number: 7\n",
      "Enter number: 5\n",
      "Enter number: 6\n",
      "Enter number: 9\n",
      "Enter number: 7\n",
      "Enter number: 2\n"
     ]
    },
    {
     "name": "stdout",
     "output_type": "stream",
     "text": [
      "<class 'list'>\n",
      "sum: 36\n",
      "Average 12.0\n",
      "Minimum: 2\n",
      "Maximum: 9\n",
      "[7, 12, 18, 27, 34, 36]\n"
     ]
    }
   ],
   "source": [
    "def userinput():\n",
    "    n=int(input(\"Enter elements:\"))\n",
    "    list1=list()\n",
    "    for i in range(n):\n",
    "        num=int(input(\"Enter number:\"))\n",
    "        list1.append(num)\n",
    "    print(type(list1))\n",
    "    return list1\n",
    "def cumulative(list1):\n",
    "    cl=list()\n",
    "    sum=0\n",
    "    for i in list1:\n",
    "        sum=sum+i\n",
    "        cl.append(sum)\n",
    "    print(\"sum:\",sum)\n",
    "    print(\"Average\",sum/n)\n",
    "    print(\"Minimum:\",min(list1))\n",
    "    print(\"Maximum:\",max(list1))\n",
    "    print(cl)\n",
    "list3=userinput()\n",
    "cumulative(list3)"
   ]
  },
  {
   "cell_type": "markdown",
   "id": "9949e88b-26ef-4957-9ecb-263b6a4f4c17",
   "metadata": {},
   "source": [
    "write a program to take n inputs from user and store them as a list."
   ]
  },
  {
   "cell_type": "code",
   "execution_count": 20,
   "id": "3706185f-7ea6-4f90-bf6b-afc6d42cbadd",
   "metadata": {},
   "outputs": [
    {
     "name": "stdout",
     "output_type": "stream",
     "text": [
      "<class 'tuple'>\n",
      "Error please enter valid input data type\n"
     ]
    }
   ],
   "source": [
    "def cumulative(list1):\n",
    "    cl=list()\n",
    "    sum=0\n",
    "    for i in list1:\n",
    "        sum=sum+i\n",
    "        cl.append(sum)\n",
    "    print(\"sum:\",sum)\n",
    "    print(\"Average\",sum/n)\n",
    "    print(\"Minimum:\",min(list1))\n",
    "    print(\"Maximum:\",max(list1))\n",
    "    print(cl)\n",
    "list3=(1,2,3)\n",
    "print(type(list3))\n",
    "if(type(list3) is not list):\n",
    "    print(\"Error please enter valid input data type\")\n",
    "else:\n",
    "    cumulative(list3)"
   ]
  },
  {
   "cell_type": "code",
   "execution_count": 2,
   "id": "7e53df59-192e-4da4-bc7f-976f88806b07",
   "metadata": {},
   "outputs": [
    {
     "name": "stdin",
     "output_type": "stream",
     "text": [
      "Enter Number: 47\n",
      "Enter Yes for run and stop for exit: yes\n",
      "Enter Number: 66\n",
      "Enter Yes for run and stop for exit: stop\n"
     ]
    },
    {
     "name": "stdout",
     "output_type": "stream",
     "text": [
      "You are exited\n",
      "[47, 66]\n"
     ]
    }
   ],
   "source": [
    "list1=list()\n",
    "def listing():\n",
    "    num=int(input(\"Enter Number:\"))\n",
    "    list1.append(num)\n",
    "    return list1\n",
    "word=\"yes\"\n",
    "while True:\n",
    "    if(word==\"yes\"):\n",
    "        flist=listing()\n",
    "    else:\n",
    "        print(\"You are exited\")\n",
    "        print(flist)\n",
    "        break\n",
    "    word=input(\"Enter Yes for run and stop for exit:\")\n",
    "    word=word.lower()"
   ]
  },
  {
   "cell_type": "code",
   "execution_count": null,
   "id": "8597a13d-366c-476b-a6e9-c6337ba61332",
   "metadata": {},
   "outputs": [],
   "source": []
  }
 ],
 "metadata": {
  "kernelspec": {
   "display_name": "Python 3 (ipykernel)",
   "language": "python",
   "name": "python3"
  },
  "language_info": {
   "codemirror_mode": {
    "name": "ipython",
    "version": 3
   },
   "file_extension": ".py",
   "mimetype": "text/x-python",
   "name": "python",
   "nbconvert_exporter": "python",
   "pygments_lexer": "ipython3",
   "version": "3.12.4"
  }
 },
 "nbformat": 4,
 "nbformat_minor": 5
}

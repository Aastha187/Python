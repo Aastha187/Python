{
 "cells": [
  {
   "cell_type": "markdown",
   "id": "fac25c43-18ac-45c7-94c6-689c60021e08",
   "metadata": {},
   "source": [
    " 1 write a function that takes a list as input and return its sum commulative sum min and max value using for loop define function documentation using docs stringamd show its user \n",
    "    "
   ]
  },
  {
   "cell_type": "code",
   "execution_count": 19,
   "id": "f11f938b-b6f1-425d-9719-f264be79e5bc",
   "metadata": {},
   "outputs": [
    {
     "name": "stdin",
     "output_type": "stream",
     "text": [
      "Enter elements: 6\n",
      "Enter number: 7\n",
      "Enter number: 5\n",
      "Enter number: 6\n",
      "Enter number: 9\n",
      "Enter number: 7\n",
      "Enter number: 2\n"
     ]
    },
    {
     "name": "stdout",
     "output_type": "stream",
     "text": [
      "<class 'list'>\n",
      "sum: 36\n",
      "Average 12.0\n",
      "Minimum: 2\n",
      "Maximum: 9\n",
      "[7, 12, 18, 27, 34, 36]\n"
     ]
    }
   ],
   "source": [
    "def userinput():\n",
    "    n=int(input(\"Enter elements:\"))\n",
    "    list1=list()\n",
    "    for i in range(n):\n",
    "        num=int(input(\"Enter number:\"))\n",
    "        list1.append(num)\n",
    "    print(type(list1))\n",
    "    return list1\n",
    "def cumulative(list1):\n",
    "    cl=list()\n",
    "    sum=0\n",
    "    for i in list1:\n",
    "        sum=sum+i\n",
    "        cl.append(sum)\n",
    "    print(\"sum:\",sum)\n",
    "    print(\"Average\",sum/n)\n",
    "    print(\"Minimum:\",min(list1))\n",
    "    print(\"Maximum:\",max(list1))\n",
    "    print(cl)\n",
    "list3=userinput()\n",
    "cumulative(list3)"
   ]
  },
  {
   "cell_type": "markdown",
   "id": "9949e88b-26ef-4957-9ecb-263b6a4f4c17",
   "metadata": {},
   "source": [
    "write a program to take n inputs from user and store them as a list."
   ]
  },
  {
   "cell_type": "code",
   "execution_count": 20,
   "id": "3706185f-7ea6-4f90-bf6b-afc6d42cbadd",
   "metadata": {},
   "outputs": [
    {
     "name": "stdout",
     "output_type": "stream",
     "text": [
      "<class 'tuple'>\n",
      "Error please enter valid input data type\n"
     ]
    }
   ],
   "source": [
    "def cumulative(list1):\n",
    "    cl=list()\n",
    "    sum=0\n",
    "    for i in list1:\n",
    "        sum=sum+i\n",
    "        cl.append(sum)\n",
    "    print(\"sum:\",sum)\n",
    "    print(\"Average\",sum/n)\n",
    "    print(\"Minimum:\",min(list1))\n",
    "    print(\"Maximum:\",max(list1))\n",
    "    print(cl)\n",
    "list3=(1,2,3)\n",
    "print(type(list3))\n",
    "if(type(list3) is not list):\n",
    "    print(\"Error please enter valid input data type\")\n",
    "else:\n",
    "    cumulative(list3)"
   ]
  },
  {
   "cell_type": "code",
   "execution_count": 2,
   "id": "7e53df59-192e-4da4-bc7f-976f88806b07",
   "metadata": {},
   "outputs": [
    {
     "name": "stdin",
     "output_type": "stream",
     "text": [
      "Enter Number: 47\n",
      "Enter Yes for run and stop for exit: yes\n",
      "Enter Number: 66\n",
      "Enter Yes for run and stop for exit: stop\n"
     ]
    },
    {
     "name": "stdout",
     "output_type": "stream",
     "text": [
      "You are exited\n",
      "[47, 66]\n"
     ]
    }
   ],
   "source": [
    "list1=list()\n",
    "def listing():\n",
    "    num=int(input(\"Enter Number:\"))\n",
    "    list1.append(num)\n",
    "    return list1\n",
    "word=\"yes\"\n",
    "while True:\n",
    "    if(word==\"yes\"):\n",
    "        flist=listing()\n",
    "    else:\n",
    "        print(\"You are exited\")\n",
    "        print(flist)\n",
    "        break\n",
    "    word=input(\"Enter Yes for run and stop for exit:\")\n",
    "    word=word.lower()"
   ]
  },
  {
   "cell_type": "markdown",
   "id": "06c84be9-b834-4a39-b416-077a85776668",
   "metadata": {},
   "source": [
    "def myadd1(a,b):\n",
    "    res = a + b\n",
    "    return res\n",
    "add=myadd1(3,4)\n",
    "print(add)"
   ]
  },
  {
   "cell_type": "code",
   "execution_count": 3,
   "id": "7b24698d-a5b8-4712-9868-7bc4d99cdc46",
   "metadata": {},
   "outputs": [
    {
     "name": "stdout",
     "output_type": "stream",
     "text": [
      "9\n"
     ]
    }
   ],
   "source": [
    "add = lambda a, b: a + b\n",
    "print(add(4,5))"
   ]
  },
  {
   "cell_type": "code",
   "execution_count": 6,
   "id": "3d0ef579-4cf8-4a1a-adfc-e2234fe05229",
   "metadata": {},
   "outputs": [
    {
     "name": "stdout",
     "output_type": "stream",
     "text": [
      "[1, 16, 49, 64]\n"
     ]
    }
   ],
   "source": [
    "numbers = [1,4,7,8]\n",
    "squared = map(lambda x: x*x, numbers)\n",
    "print(list(squared))"
   ]
  },
  {
   "cell_type": "markdown",
   "id": "29f8ecbd-881c-4a56-886d-da0685519fd3",
   "metadata": {},
   "source": [
    "write a program to multiply two variable using lambda function. "
   ]
  },
  {
   "cell_type": "code",
   "execution_count": 7,
   "id": "eb048bc5-1b42-4e3f-b58d-7d7c33d172dc",
   "metadata": {},
   "outputs": [
    {
     "name": "stdout",
     "output_type": "stream",
     "text": [
      "27\n"
     ]
    }
   ],
   "source": [
    "mul=lambda a, b: a*b\n",
    "print(mul(3,9))"
   ]
  },
  {
   "cell_type": "code",
   "execution_count": 8,
   "id": "9cbb8d0a-60e6-44ba-9e94-ff820b69a1f0",
   "metadata": {},
   "outputs": [
    {
     "name": "stdout",
     "output_type": "stream",
     "text": [
      "[4, 8]\n"
     ]
    }
   ],
   "source": [
    "even_numbers = filter(lambda x: x % 2 == 0, numbers)\n",
    "print(list(even_numbers))"
   ]
  },
  {
   "cell_type": "markdown",
   "id": "46107834-15ed-4eda-a7ef-c81ba120e284",
   "metadata": {},
   "source": [
    "write a program to square each number in a list whithout using map and lambda"
   ]
  },
  {
   "cell_type": "code",
   "execution_count": 12,
   "id": "619f8068-2c02-4c93-91df-acd52237ecc4",
   "metadata": {},
   "outputs": [
    {
     "name": "stdout",
     "output_type": "stream",
     "text": [
      "[1, 16, 36, 49]\n"
     ]
    }
   ],
   "source": [
    "def squares():\n",
    "    a=[1,4,6,7]\n",
    "    for i in range(4):\n",
    "        a[i]=a[i]*a[i]\n",
    "    return a\n",
    "sq=squares()\n",
    "print(sq)\n",
    "\n",
    "\n",
    "    "
   ]
  },
  {
   "cell_type": "code",
   "execution_count": 17,
   "id": "0a6c2341-95de-4686-943b-aead420b9f8d",
   "metadata": {},
   "outputs": [
    {
     "name": "stdout",
     "output_type": "stream",
     "text": [
      "[16, 36]\n"
     ]
    }
   ],
   "source": [
    "def squares():\n",
    "    a=[1,4,6,7]\n",
    "    for i in range(4):\n",
    "        a[i]=a[i]*a[i]\n",
    "    return a\n",
    "sq=squares()\n",
    "fl=filter(lambda x:x%2==0,sq)\n",
    "print(list(fl))"
   ]
  },
  {
   "cell_type": "markdown",
   "id": "127640ba-de72-4605-ba33-4b40e87ff2ea",
   "metadata": {},
   "source": [
    "write a function to create a list of squares of even numbers from 0 to 9"
   ]
  },
  {
   "cell_type": "code",
   "execution_count": 28,
   "id": "67eb4133-a813-4d7c-b132-dfe7e3d4675a",
   "metadata": {},
   "outputs": [
    {
     "name": "stdout",
     "output_type": "stream",
     "text": [
      "[0, 4, 16, 36, 64]\n"
     ]
    }
   ],
   "source": [
    "squares = []\n",
    "for i in range(10):\n",
    "    if i % 2 == 0:\n",
    "        squares.append(i**2)\n",
    "print (squares)"
   ]
  },
  {
   "cell_type": "code",
   "execution_count": 32,
   "id": "70c1a8c8-ef1f-481e-8bfa-f19f87593b80",
   "metadata": {},
   "outputs": [
    {
     "name": "stdout",
     "output_type": "stream",
     "text": [
      "[0, 4, 16, 36, 64]\n"
     ]
    }
   ],
   "source": [
    "squares = [i ** 2 for i in range(10) if i % 2 == 0]\n",
    "print(squares)"
   ]
  },
  {
   "cell_type": "markdown",
   "id": "c0ef59d9-de3e-4bbf-bebe-856842feee99",
   "metadata": {},
   "source": [
    "write a program that takes a list containing sad id returns a list of email address."
   ]
  },
  {
   "cell_type": "code",
   "execution_count": 20,
   "id": "986fd7e4-3192-4d55-a751-46b3e2f5f26c",
   "metadata": {},
   "outputs": [
    {
     "name": "stdout",
     "output_type": "stream",
     "text": [
      "\n",
      "Map Function\n",
      "\n",
      "Filter Method\n",
      "590015987@ stu.upwa.ac.in\n",
      "590015988@ stu.upwa.ac.in\n",
      "590015989@ stu.upwa.ac.in\n",
      "590015990@ stu.upwa.ac.in\n",
      "[]\n",
      "\n",
      "List comprehension\n",
      "['590015987@ stu.upwa.ac.in', '590015988@ stu.upwa.ac.in', '590015989@ stu.upwa.ac.in', '590015990@ stu.upwa.ac.in']\n"
     ]
    }
   ],
   "source": [
    "sap=[590015987,590015988,590015989,590015990]\n",
    "#req=[a[4:] for i in sap if True]\n",
    "#req=filter(lambda x:for i in x,sap)\n",
    "#print(list(req))\n",
    "print(\"\\nMap Function\")\n",
    "print(\"\\nFilter Method\")\n",
    "emails=filter(lambda x: print(str(x)+\"@ stu.upwa.ac.in\"),sap)\n",
    "print(list(emails))\n",
    "print(\"\\nList comprehension\")\n",
    "emails=[f\"{i}@ stu.upwa.ac.in\"for i in sap]\n",
    "print(list(emails))\n"
   ]
  },
  {
   "cell_type": "markdown",
   "id": "e61c99ca-ae3f-442f-8ae8-052c23b39f41",
   "metadata": {},
   "source": [
    "write a program that takes email address from user and using smdp library send  massage to all the email addresses and then store it in a library "
   ]
  },
  {
   "cell_type": "code",
   "execution_count": 5,
   "id": "9b81450a-111b-4fa1-9e7a-f7d117f98a82",
   "metadata": {},
   "outputs": [
    {
     "data": {
      "text/plain": [
       "['123546@stu.upes.ac.in',\n",
       " '176895@stu.upes.ac.in',\n",
       " '758694@stu.upes.ac.in',\n",
       " '647543@stu.upes.ac.in']"
      ]
     },
     "execution_count": 5,
     "metadata": {},
     "output_type": "execute_result"
    }
   ],
   "source": [
    "sapids = [123546,176895,758694,647543]\n",
    "def id2emails(id):\n",
    "    return f\"{id}@stu.upes.ac.in\"\n",
    "\n",
    "emails=[]\n",
    "for id in sapids:\n",
    "    email = id2emails(id)\n",
    "    emails.append(email)\n",
    "\n",
    "list_of_emails=emails\n",
    "emails\n",
    "\n",
    "#using map and lambda\n",
    "\n",
    "sapids = [123546,176895,758694,647543]\n",
    "\n",
    "list_of_emails = list(map(lambda id: str9id) + \"@stu.upes.in\" , sapids))\n",
    "list-of_emails\n",
    "\n"
   ]
  },
  {
   "cell_type": "markdown",
   "id": "7d9cc9cb-e691-4f0a-a1ed-cce6cfb95eef",
   "metadata": {},
   "source": [
    "write a program to print current time then pause for second and again print current time"
   ]
  },
  {
   "cell_type": "code",
   "execution_count": 37,
   "id": "b45f9c64-90f8-404e-a1cf-73ec7b1eac83",
   "metadata": {},
   "outputs": [
    {
     "name": "stdout",
     "output_type": "stream",
     "text": [
      "Tue Sep 10 09:25:47 2024\n",
      "\n",
      "\n",
      "Tue Sep 10 09:25:49 2024\n",
      "\n",
      "\n"
     ]
    }
   ],
   "source": [
    "import time\n",
    "def showTime():\n",
    "    print(time.ctime())\n",
    "    print(\"\\n\")\n",
    "    time.sleep(2)\n",
    "showTime()\n",
    "\n",
    "showTime()"
   ]
  },
  {
   "cell_type": "markdown",
   "id": "ea392019-d6d1-4053-8b68-7ef966733af5",
   "metadata": {},
   "source": [
    "write a program that take directory address from user and writtens in lists of files and diroctries in that list using os module."
   ]
  },
  {
   "cell_type": "code",
   "execution_count": 15,
   "id": "59db0d07-9dfa-4edb-a9b9-0348e01269bd",
   "metadata": {
    "scrolled": true
   },
   "outputs": [
    {
     "name": "stdin",
     "output_type": "stream",
     "text": [
      "Enter the directory path:  ./\n"
     ]
    },
    {
     "name": "stdout",
     "output_type": "stream",
     "text": [
      "Files in the directory:\n",
      "Assignment1.ipynb\n",
      "code1.py\n",
      "counter.py\n",
      "first.py\n",
      "hellopython.py\n",
      "listid.py\n",
      "Practice.ipynb\n",
      "README.md\n",
      "scope.py\n",
      "Untitled.ipynb\n",
      "variable id.py\n"
     ]
    }
   ],
   "source": [
    "\n",
    "import os\n",
    "directory_path = input(\"Enter the directory path: \")\n",
    "if os.path.isdir(directory_path):\n",
    "    files = [f for f in os.listdir(directory_path) if os.path.isfile(os.path.join(directory_path, f))]\n",
    "    print(\"Files in the directory:\")\n",
    "    for file in files:\n",
    "        print(file)\n",
    "else:\n",
    "    print(\"The specified directory does not exist.\")"
   ]
  },
  {
   "cell_type": "markdown",
   "id": "258e9ba3-d8f6-42c0-8c6f-e24c2b2de715",
   "metadata": {},
   "source": [
    "write a program that takes directory address from user and organise files into coresponding folders using os module "
   ]
  },
  {
   "cell_type": "code",
   "execution_count": 10,
   "id": "0490ca6c-69e6-42e9-9cbc-593c8ef39f56",
   "metadata": {},
   "outputs": [],
   "source": [
    "import os\n",
    "address = \"./\"\n",
    "list_of_files = os.listdir(address)\n",
    "list_of_files\n",
    "for i in list_of_files:\n",
    "    extension=i.split(\".\")\n",
    "    extension=extension[-1]\n",
    "    extension\n"
   ]
  },
  {
   "cell_type": "code",
   "execution_count": 27,
   "id": "9fbc9571-a5b7-4753-99c9-9c65980b8eae",
   "metadata": {},
   "outputs": [
    {
     "data": {
      "text/plain": [
       "0"
      ]
     },
     "execution_count": 27,
     "metadata": {},
     "output_type": "execute_result"
    }
   ],
   "source": [
    "import os\n",
    "asa=\"mkdir aastha\"\n",
    "os.system(asa)"
   ]
  },
  {
   "cell_type": "markdown",
   "id": "e158ca01-404e-4c59-b9c2-6aace8b329e0",
   "metadata": {},
   "source": [
    "try catch inpythin for error handling"
   ]
  },
  {
   "cell_type": "code",
   "execution_count": 7,
   "id": "d518957b-79d4-4827-b7ab-1b7c7946d368",
   "metadata": {},
   "outputs": [
    {
     "name": "stdout",
     "output_type": "stream",
     "text": [
      "value of 5\n"
     ]
    }
   ],
   "source": [
    "a=5\n",
    "try:\n",
    "    print(f\"value of {a}\")\n",
    "except:\n",
    "    print(f\"value of a does not exist\")\n"
   ]
  },
  {
   "cell_type": "code",
   "execution_count": 19,
   "id": "f2fe0e8e-9d06-4e9a-8977-543a8778592e",
   "metadata": {},
   "outputs": [
    {
     "name": "stdout",
     "output_type": "stream",
     "text": [
      "assertion is true\n"
     ]
    }
   ],
   "source": [
    "a=10\n",
    "b=45\n",
    "\n",
    "try:\n",
    "    assert a<b\n",
    "    print(\"assertion is true\")\n",
    "\n",
    "except:\n",
    "    print(\"assertion is false\")\n",
    "    "
   ]
  },
  {
   "cell_type": "markdown",
   "id": "fa600d4b-44d4-427e-a164-4cf33140f911",
   "metadata": {},
   "source": [
    "write a program that takes two values from user and writtens division of first from second"
   ]
  },
  {
   "cell_type": "code",
   "execution_count": 14,
   "id": "96ce8bc0-1aaf-4b39-9528-ba9f2ecda4e0",
   "metadata": {},
   "outputs": [
    {
     "name": "stdin",
     "output_type": "stream",
     "text": [
      "enter number 1* 5\n",
      "enter number 2* 6\n"
     ]
    },
    {
     "name": "stdout",
     "output_type": "stream",
     "text": [
      "division of 5/6 is 0.8333333333333334\n"
     ]
    }
   ],
   "source": [
    "a = int(input(\"enter number 1*\"))\n",
    "b = int(input(\"enter number 2*\"))\n",
    "\n",
    "def div(a,b):\n",
    "    return a/b\n",
    "\n",
    "print(f\"division of {a}/{b} is {div(a,b)}\")"
   ]
  },
  {
   "cell_type": "code",
   "execution_count": null,
   "id": "c1858047-4e45-4ddc-a280-c119d904e36c",
   "metadata": {},
   "outputs": [],
   "source": []
  }
 ],
 "metadata": {
  "kernelspec": {
   "display_name": "Python 3 (ipykernel)",
   "language": "python",
   "name": "python3"
  },
  "language_info": {
   "codemirror_mode": {
    "name": "ipython",
    "version": 3
   },
   "file_extension": ".py",
   "mimetype": "text/x-python",
   "name": "python",
   "nbconvert_exporter": "python",
   "pygments_lexer": "ipython3",
   "version": "3.12.4"
  }
 },
 "nbformat": 4,
 "nbformat_minor": 5
}

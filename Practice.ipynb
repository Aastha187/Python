{
 "cells": [
  {
   "cell_type": "code",
   "execution_count": 3,
   "id": "fd6e6157-74ab-4db9-9fba-b7bf6f626830",
   "metadata": {},
   "outputs": [],
   "source": [
    "import copy"
   ]
  },
  {
   "cell_type": "code",
   "execution_count": 4,
   "id": "bb3b266a-8cce-404a-97bd-490de14e49d5",
   "metadata": {},
   "outputs": [],
   "source": [
    "listA = [2, 4, 6, [1, 3]]"
   ]
  },
  {
   "cell_type": "code",
   "execution_count": 5,
   "id": "fc139154-7161-4f0f-8549-f7fc826d5eaf",
   "metadata": {},
   "outputs": [],
   "source": [
    "listB = copy.copy(listA)"
   ]
  },
  {
   "cell_type": "code",
   "execution_count": 6,
   "id": "7968a725-d62d-4c1b-9ca8-a7b42adf7e16",
   "metadata": {},
   "outputs": [
    {
     "name": "stdout",
     "output_type": "stream",
     "text": [
      "139720214279552\n",
      "139720214233024\n"
     ]
    }
   ],
   "source": [
    "def showdetails(listA,listB):\n",
    "    listB[1]=44\n",
    "    listB[3][0]=55\n",
    "showdetails(listA,listB)\n",
    "print(id(listA))\n",
    "print(id(listB))"
   ]
  },
  {
   "cell_type": "code",
   "execution_count": 8,
   "id": "f6b97c81-c4e4-43e6-bcc3-56973f45ec45",
   "metadata": {},
   "outputs": [
    {
     "name": "stdout",
     "output_type": "stream",
     "text": [
      "Result: 15\n"
     ]
    }
   ],
   "source": [
    "def add(a,b,c):\n",
    "    return a+b+c\n",
    "result=add(2,6,7)\n",
    "print(\"Result:\",result)\n",
    "\n"
   ]
  },
  {
   "cell_type": "code",
   "execution_count": 13,
   "id": "2d4082f8-7aa1-4536-8a85-6c43a9adb354",
   "metadata": {},
   "outputs": [],
   "source": [
    "def sum3(a, *args): # *args *values\n",
    "    print(a)\n",
    "    print(args)\n",
    "    res=a\n",
    "    for i in range(0,len(args)):\n",
    "        res = res + args[i]\n",
    "    return res\n",
    "    \n",
    "        "
   ]
  },
  {
   "cell_type": "code",
   "execution_count": 14,
   "id": "b77e7db1-2f07-45a3-bc79-d0a7b342238f",
   "metadata": {},
   "outputs": [
    {
     "name": "stdout",
     "output_type": "stream",
     "text": [
      "1\n",
      "(2, 3, 4)\n"
     ]
    }
   ],
   "source": [
    "res=sum3(1,2,3,4)"
   ]
  },
  {
   "cell_type": "code",
   "execution_count": 15,
   "id": "340afa76-6284-408c-8b03-e232eb529ecd",
   "metadata": {},
   "outputs": [
    {
     "name": "stdout",
     "output_type": "stream",
     "text": [
      "10\n"
     ]
    }
   ],
   "source": [
    "print (res)"
   ]
  },
  {
   "cell_type": "code",
   "execution_count": null,
   "id": "da3612f8-8d7a-4a6b-8480-620462bcd949",
   "metadata": {},
   "outputs": [],
   "source": []
  }
 ],
 "metadata": {
  "kernelspec": {
   "display_name": "Python 3 (ipykernel)",
   "language": "python",
   "name": "python3"
  },
  "language_info": {
   "codemirror_mode": {
    "name": "ipython",
    "version": 3
   },
   "file_extension": ".py",
   "mimetype": "text/x-python",
   "name": "python",
   "nbconvert_exporter": "python",
   "pygments_lexer": "ipython3",
   "version": "3.12.4"
  }
 },
 "nbformat": 4,
 "nbformat_minor": 5
}
